import numpy as np # Imports Numpy
import pandas as pd
import sklearn 




from sklearn.datasets import load_boston   # Imports Boston dataset
df = load_boston()




df.keys()  #Returns all the keys of the data set ditionary




print(df.DESCR)  # Info about Dataset (Description)




boston = pd.DataFrame(df.data, columns=df.feature_names)   # Converts into more schematic data
boston.head()




boston["TARGET"] = df.target     # Adds New Column i.e, our target
boston.head()




boston.isnull()    # Shows if there are missing attribute values




boston.isnull().sum()      # Here it gives the sum of all 0 for false and 1 for true





from sklearn.model_selection import train_test_split

X= boston.drop('TARGET', axis=1)      # Here, Axis = 1 is to drop a column and Axis =0 is to drop a row , (Drop = Delete)
Y= boston['TARGET']

X_train, X_test, Y_train, Y_test = train_test_split(X,Y,test_size = 0.15, random_state=5) # Here test size shows the value allocated for testing here it is 0.15 i.e, out of 100 there are 15 test values rest are training values

print(X_train.shape)
print(X_test.shape)                    # Trains and test certain values
print(Y_train.shape)                  # X contains data in Columns Y contain prediction value 
print(Y_test.shape)






from sklearn.linear_model import LinearRegression 
from sklearn.metrics import mean_squared_error





from sklearn.linear_model import LinearRegression 
from sklearn.metrics import mean_squared_error





#On Training Set
y_train_predict = lin_model.predict(X_train)
rmse = (np.sqrt(mean_squared_error(Y_train, y_train_predict)))

print("The model performing for the training set ")
print('RMSE is {}'.format(rmse))
print("\n")

# On Testing set
y_test_predict = lin_model.predict(X_test)
rmse = (np.sqrt(mean_squared_error(Y_test, y_test_predict)))

print("The model performing for the testing set ")
print('RMSE is {}'.format(rmse))
print("\n")
